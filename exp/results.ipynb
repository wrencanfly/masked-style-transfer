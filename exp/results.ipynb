{
 "cells": [
  {
   "cell_type": "markdown",
   "metadata": {},
   "source": [
    "# Masked Image Style Transfer with Optimal Transport Loss"
   ]
  },
  {
   "cell_type": "code",
   "execution_count": 1,
   "metadata": {},
   "outputs": [],
   "source": [
    "# !style_transfer sheep_resized.jpg starry_night.jpg sheep_mask_resized.jpg -s 512"
   ]
  },
  {
   "cell_type": "code",
   "execution_count": 156,
   "metadata": {},
   "outputs": [],
   "source": [
    "import IPython\n",
    "import cv2\n",
    "import numpy as np\n",
    "from IPython.display import display, Image\n",
    "from io import BytesIO\n",
    "import PIL.Image\n",
    "from PIL import Image\n",
    "from IPython.display import Image as IPyImage, display, HTML"
   ]
  },
  {
   "cell_type": "markdown",
   "metadata": {},
   "source": [
    "# Original Image and Mask"
   ]
  },
  {
   "cell_type": "code",
   "execution_count": 157,
   "metadata": {},
   "outputs": [
    {
     "data": {
      "text/html": [
       "<table><tr>                <td><img src='sheep_resized.jpg'></td>                <td><img src='sheep_mask_resized.jpg'></td>                </tr></table>"
      ],
      "text/plain": [
       "<IPython.core.display.HTML object>"
      ]
     },
     "metadata": {},
     "output_type": "display_data"
    }
   ],
   "source": [
    "# Load an image\n",
    "image_path = 'sheep.jpg'\n",
    "image = Image.open(image_path)\n",
    "\n",
    "# Resize the image to 512x512\n",
    "resized_image = image.resize((512, 378), Image.LANCZOS)\n",
    "resized_image.save(\"./sheep_resized.jpg\", 'JPEG')\n",
    "\n",
    "# Show the resized image\n",
    "images_html = f\"<table><tr>\\\n",
    "                <td><img src='sheep_resized.jpg'></td>\\\n",
    "                <td><img src='sheep_mask_resized.jpg'></td>\\\n",
    "                </tr></table>\"\n",
    "display(HTML(images_html))\n"
   ]
  },
  {
   "cell_type": "markdown",
   "metadata": {},
   "source": [
    " # Style Transfer with Optimal Transport Loss"
   ]
  },
  {
   "cell_type": "code",
   "execution_count": 164,
   "metadata": {},
   "outputs": [
    {
     "data": {
      "text/html": [
       "<table><tr>                <td><img src='sheep_resized.jpg'></td>                <td><img src='resized_starry_night.jpg'></td>                <td><img src='out.png'></td>                </tr></table>"
      ],
      "text/plain": [
       "<IPython.core.display.HTML object>"
      ]
     },
     "metadata": {},
     "output_type": "display_data"
    }
   ],
   "source": [
    "# Load and resize the first image\n",
    "image_path = 'sheep.jpg'\n",
    "image = Image.open(image_path)\n",
    "resized_image = image.resize((512, 378), Image.LANCZOS)\n",
    "resized_image.save(\"sheep_resized.jpg\", 'JPEG')\n",
    "\n",
    "style_image_path = 'starry_night.jpg'\n",
    "style_image = Image.open(style_image_path)\n",
    "style_image = style_image.resize((512, 378), Image.LANCZOS)\n",
    "style_image.save(\"resized_starry_night.jpg\", 'JPEG')\n",
    "\n",
    "# Load the second image, assuming it is already appropriately sized\n",
    "output_image_path = 'out.png'\n",
    "output_image = Image.open(output_image_path)\n",
    "\n",
    "# Display both images side-by-side using HTML\n",
    "images_html = f\"<table><tr>\\\n",
    "                <td><img src='sheep_resized.jpg'></td>\\\n",
    "                <td><img src='resized_starry_night.jpg'></td>\\\n",
    "                <td><img src='out.png'></td>\\\n",
    "                </tr></table>\"\n",
    "display(HTML(images_html))"
   ]
  },
  {
   "cell_type": "markdown",
   "metadata": {},
   "source": [
    "# MSE-Style Loss, Wasserstein-2 Loss, and  Optimal Transport Loss"
   ]
  },
  {
   "cell_type": "code",
   "execution_count": 166,
   "metadata": {},
   "outputs": [
    {
     "data": {
      "text/html": [
       "<table><tr>                <td><img src='out_MSEStyleLoss.png'></td>                <td><img src='out_W2Loss.png'></td>                <td><img src='out.png'></td>                </tr></table>"
      ],
      "text/plain": [
       "<IPython.core.display.HTML object>"
      ]
     },
     "metadata": {},
     "output_type": "display_data"
    }
   ],
   "source": [
    "# loss Discussion\n",
    "\n",
    "images_html = f\"<table><tr>\\\n",
    "                <td><img src='out_MSEStyleLoss.png'></td>\\\n",
    "                <td><img src='out_W2Loss.png'></td>\\\n",
    "                <td><img src='out.png'></td>\\\n",
    "                </tr></table>\"\n",
    "display(HTML(images_html))\n",
    "\n"
   ]
  },
  {
   "cell_type": "markdown",
   "metadata": {},
   "source": [
    "# Naive Masekd Style Transfer and Mask Strategies"
   ]
  },
  {
   "cell_type": "code",
   "execution_count": 153,
   "metadata": {},
   "outputs": [
    {
     "name": "stderr",
     "output_type": "stream",
     "text": [
      "libpng warning: iCCP: known incorrect sRGB profile\n"
     ]
    },
    {
     "data": {
      "text/html": [
       "<table><tr>                <td><img src='naive_blend.jpg'></td>                <td><img src='sheep_resized_maskedOnly.jpg'></td>                <td><img src='seamlessClone_naive_mask.jpg'></td>                </tr></table>"
      ],
      "text/plain": [
       "<IPython.core.display.HTML object>"
      ]
     },
     "metadata": {},
     "output_type": "display_data"
    }
   ],
   "source": [
    "image_a = cv2.imread('sheep_resized.jpg')\n",
    "image_b = cv2.imread('out.png')\n",
    "\n",
    "mask = cv2.imread('sheep_mask_resized.jpg', cv2.IMREAD_GRAYSCALE)\n",
    "mask = cv2.resize(mask, (image_a.shape[1], image_a.shape[0]))\n",
    "masked_area_b = cv2.bitwise_and(image_b, image_b, mask=mask)\n",
    "inverse_mask = cv2.bitwise_not(mask)\n",
    "remaining_area_a = cv2.bitwise_and(image_a, image_a, mask=inverse_mask)\n",
    "\n",
    "# naive blend merge \n",
    "result_image = cv2.add(remaining_area_a, masked_area_b)\n",
    "result_image_pil = PIL.Image.fromarray(cv2.cvtColor(result_image, cv2.COLOR_BGR2RGB))\n",
    "result_image_pil.save(\"./sheep_resized_maskedOnly.jpg\", 'JPEG')\n",
    "masked_area_a = cv2.bitwise_and(image_a, image_a, mask=mask)\n",
    "result_image_pil = PIL.Image.fromarray(cv2.cvtColor(masked_area_a, cv2.COLOR_BGR2RGB))\n",
    "result_image_pil.save(\"./naive_blend.jpg\", 'JPEG')\n",
    "\n",
    "\n",
    "# seamless Clone\n",
    "mask = cv2.imread('sheep_mask_resized.jpg', cv2.IMREAD_GRAYSCALE)\n",
    "mask = cv2.resize(mask, (image_a.shape[1], image_a.shape[0]))  \n",
    "monoMaskImage = cv2.split(mask)[0] # reducing the mask to a monochrome\n",
    "br = cv2.boundingRect(monoMaskImage) # bounding rect (x,y,width,height)\n",
    "centerOfBR = (br[0] + br[2] // 2, br[1] + br[3] // 2)\n",
    "result_image = cv2.seamlessClone(image_b, image_a, mask, centerOfBR, cv2.NORMAL_CLONE)\n",
    "result_image_pil = PIL.Image.fromarray(cv2.cvtColor(result_image, cv2.COLOR_BGR2RGB))\n",
    "result_image_pil.save(\"seamlessClone_naive_mask.jpg\", 'JPEG')\n",
    "\n",
    "\n",
    "\n",
    "# plot\n",
    "images_html = f\"<table><tr>\\\n",
    "                <td><img src='naive_blend.jpg'></td>\\\n",
    "                <td><img src='sheep_resized_maskedOnly.jpg'></td>\\\n",
    "                <td><img src='seamlessClone_naive_mask.jpg'></td>\\\n",
    "                </tr></table>\"\n",
    "display(HTML(images_html))\n"
   ]
  },
  {
   "cell_type": "markdown",
   "metadata": {},
   "source": [
    "# Masked Style Transfer and Mask Strategies"
   ]
  },
  {
   "cell_type": "code",
   "execution_count": 154,
   "metadata": {},
   "outputs": [
    {
     "name": "stderr",
     "output_type": "stream",
     "text": [
      "libpng warning: iCCP: known incorrect sRGB profile\n",
      "libpng warning: iCCP: known incorrect sRGB profile\n"
     ]
    },
    {
     "data": {
      "text/html": [
       "<table><tr>                <td><img src='out_maksedOnly.png'></td>                <td><img src='naive_blend_maskedOnly.jpg'></td>                <td><img src='seamlessClone_maskedOnly.jpg'></td>                </tr></table>"
      ],
      "text/plain": [
       "<IPython.core.display.HTML object>"
      ]
     },
     "metadata": {},
     "output_type": "display_data"
    }
   ],
   "source": [
    "\n",
    "image_a = cv2.imread('sheep_resized.jpg')\n",
    "image_b = cv2.imread('out_maksedOnly.png')\n",
    "\n",
    "# naive mask\n",
    "mask = cv2.imread('sheep_mask_resized.jpg', cv2.IMREAD_GRAYSCALE)\n",
    "mask = cv2.resize(mask, (image_a.shape[1], image_a.shape[0]))\n",
    "masked_area_b = cv2.bitwise_and(image_b, image_b, mask=mask)\n",
    "inverse_mask = cv2.bitwise_not(mask)\n",
    "remaining_area_a = cv2.bitwise_and(image_a, image_a, mask=inverse_mask)\n",
    "result_image = cv2.add(remaining_area_a, masked_area_b)\n",
    "\n",
    "result_image_pil = PIL.Image.fromarray(cv2.cvtColor(result_image, cv2.COLOR_BGR2RGB))\n",
    "result_image_pil.save(\"naive_blend_maskedOnly.jpg\", 'JPEG')\n",
    "\n",
    "\n",
    "# Samless Clone\n",
    "image_a = cv2.imread('sheep_resized.jpg')\n",
    "image_b = cv2.imread('out_maksedOnly.png')\n",
    "mask = cv2.imread('sheep_mask_resized.jpg', cv2.IMREAD_GRAYSCALE)\n",
    "mask = cv2.resize(mask, (image_a.shape[1], image_a.shape[0]))  \n",
    "monoMaskImage = cv2.split(mask)[0] # reducing the mask to a monochrome\n",
    "br = cv2.boundingRect(monoMaskImage) # bounding rect (x,y,width,height)\n",
    "centerOfBR = (br[0] + br[2] // 2, br[1] + br[3] // 2)\n",
    "# poissonImage = cv2.seamlessClone(srcImage, dstImage, maskImage, centerOfBR )\n",
    "result_image = cv2.seamlessClone(image_b, image_a, mask, centerOfBR, cv2.NORMAL_CLONE)\n",
    "result_image_pil = PIL.Image.fromarray(cv2.cvtColor(result_image, cv2.COLOR_BGR2RGB))\n",
    "result_image_pil.save(\"seamlessClone_maskedOnly.jpg\", 'JPEG')\n",
    "\n",
    "\n",
    "\n",
    "# plot\n",
    "images_html = f\"<table><tr>\\\n",
    "                <td><img src='out_maksedOnly.png'></td>\\\n",
    "                <td><img src='naive_blend_maskedOnly.jpg'></td>\\\n",
    "                <td><img src='seamlessClone_maskedOnly.jpg'></td>\\\n",
    "                </tr></table>\"\n",
    "display(HTML(images_html))\n"
   ]
  },
  {
   "cell_type": "markdown",
   "metadata": {},
   "source": [
    "# Reference\n",
    "Optimal Transport Loss - https://www.youtube.com/watch?v=ZFYZFlY7lgI&t=610s"
   ]
  }
 ],
 "metadata": {
  "kernelspec": {
   "display_name": "regionclip",
   "language": "python",
   "name": "python3"
  },
  "language_info": {
   "codemirror_mode": {
    "name": "ipython",
    "version": 3
   },
   "file_extension": ".py",
   "mimetype": "text/x-python",
   "name": "python",
   "nbconvert_exporter": "python",
   "pygments_lexer": "ipython3",
   "version": "3.9.19"
  }
 },
 "nbformat": 4,
 "nbformat_minor": 2
}
